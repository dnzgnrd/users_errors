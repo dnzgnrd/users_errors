{
 "cells": [
  {
   "cell_type": "code",
   "execution_count": 2,
   "id": "e0436dee-8421-474a-a7f1-a780e68ab3ba",
   "metadata": {},
   "outputs": [],
   "source": [
    "import pandas as pd\n",
    "from sklearn.preprocessing import LabelEncoder\n",
    "import numpy as np"
   ]
  },
  {
   "cell_type": "code",
   "execution_count": 3,
   "id": "3c3ce1b0-87e3-469c-a0c5-1d8ac658559b",
   "metadata": {},
   "outputs": [],
   "source": [
    "df = pd.read_csv(r\"C:\\Users\\lenovo\\Desktop\\verianalizi\\users_errors.csv\")"
   ]
  },
  {
   "cell_type": "code",
   "execution_count": 4,
   "id": "19587edc-a39b-47ad-b939-311b5c1a9282",
   "metadata": {},
   "outputs": [
    {
     "name": "stdout",
     "output_type": "stream",
     "text": [
      "Veri Seti İlk 5 Satır:\n",
      "   id  user_id       interaction_type                interaction_details  \\\n",
      "0   1        1          Invalid Input   Data value exceeds allowed range   \n",
      "1   2        2          Invalid Input              Invalid email address   \n",
      "2   3        3  Authentication Failed  Session timeout due to inactivity   \n",
      "3   4        1             Data Error              Invalid email address   \n",
      "4   5        2  Authentication Failed              Invalid email address   \n",
      "\n",
      "  device_id  ip_address  location     interaction_time  \n",
      "0   DEV1234  172.16.0.3     İzmir  2025-03-01 17:40:28  \n",
      "1   DEV5678    10.0.0.2  İstanbul  2025-03-01 17:40:28  \n",
      "2   DEV9999  172.16.0.3     İzmir  2025-03-01 17:40:28  \n",
      "3   DEV5678  172.16.0.3  İstanbul  2025-03-01 17:50:52  \n",
      "4   DEV9999    10.0.0.2     İzmir  2025-03-01 17:50:52  \n",
      "\n",
      "Veri Seti Bilgisi:\n",
      "<class 'pandas.core.frame.DataFrame'>\n",
      "RangeIndex: 1000 entries, 0 to 999\n",
      "Data columns (total 8 columns):\n",
      " #   Column               Non-Null Count  Dtype \n",
      "---  ------               --------------  ----- \n",
      " 0   id                   1000 non-null   int64 \n",
      " 1   user_id              1000 non-null   int64 \n",
      " 2   interaction_type     1000 non-null   object\n",
      " 3   interaction_details  1000 non-null   object\n",
      " 4   device_id            1000 non-null   object\n",
      " 5   ip_address           1000 non-null   object\n",
      " 6   location             1000 non-null   object\n",
      " 7   interaction_time     1000 non-null   object\n",
      "dtypes: int64(2), object(6)\n",
      "memory usage: 62.6+ KB\n",
      "None\n",
      "\n",
      "Eksik Değerler:\n",
      "id                     0\n",
      "user_id                0\n",
      "interaction_type       0\n",
      "interaction_details    0\n",
      "device_id              0\n",
      "ip_address             0\n",
      "location               0\n",
      "interaction_time       0\n",
      "dtype: int64\n"
     ]
    }
   ],
   "source": [
    "# Veri setinin ilk birkaç satırını ve bilgilerini kontrol et\n",
    "print(\"Veri Seti İlk 5 Satır:\")\n",
    "print(df.head())\n",
    "print(\"\\nVeri Seti Bilgisi:\")\n",
    "print(df.info())\n",
    "print(\"\\nEksik Değerler:\")\n",
    "print(df.isnull().sum())"
   ]
  },
  {
   "cell_type": "code",
   "execution_count": 5,
   "id": "139dff53-4026-490b-9982-f3f0027f1078",
   "metadata": {},
   "outputs": [],
   "source": [
    "# Eksik verileri düşür (veya doldur)\n",
    "df = df.dropna()"
   ]
  },
  {
   "cell_type": "code",
   "execution_count": 6,
   "id": "19579553-8e5d-4e4f-863e-14cbc71bbf7e",
   "metadata": {},
   "outputs": [],
   "source": [
    "# Kategorik sütunları tanımla\n",
    "categorical_columns = [\"interaction_type\", \"interaction_details\", \"device_id\", \"ip_address\", \"location\"]"
   ]
  },
  {
   "cell_type": "code",
   "execution_count": 7,
   "id": "b7e162a6-b545-4934-9ea8-f34e2fcdc737",
   "metadata": {},
   "outputs": [
    {
     "name": "stdout",
     "output_type": "stream",
     "text": [
      "interaction_type sütunu için eşsiz değerler: ['Authentication Failed' 'Data Error' 'Invalid Input' 'Permission Denied'\n",
      " 'Session Expired']\n",
      "interaction_details sütunu için eşsiz değerler: ['Data value exceeds allowed range' 'Incorrect password'\n",
      " 'Invalid email address' 'Session timeout due to inactivity'\n",
      " 'User not authorized to access resource']\n",
      "device_id sütunu için eşsiz değerler: ['DEV1234' 'DEV5678' 'DEV9999']\n",
      "ip_address sütunu için eşsiz değerler: ['10.0.0.2' '172.16.0.3' '192.168.1.1']\n",
      "location sütunu için eşsiz değerler: ['Ankara' 'İstanbul' 'İzmir']\n"
     ]
    }
   ],
   "source": [
    "# Her sütun için ayrı LabelEncoder nesnesi oluştur ve sakla\n",
    "label_encoders = {}\n",
    "for col in categorical_columns:\n",
    "    if col in df.columns:  # Sütunun veri setinde olduğundan emin ol\n",
    "        encoder = LabelEncoder()\n",
    "        df[col] = encoder.fit_transform(df[col].astype(str))  # Her ihtimale karşı string'e çevir\n",
    "        label_encoders[col] = encoder  # Encoder'ı sakla\n",
    "        print(f\"{col} sütunu için eşsiz değerler:\", encoder.classes_)\n",
    "    else:\n",
    "        print(f\"Uyarı: {col} sütunu veri setinde bulunamadı!\")"
   ]
  },
  {
   "cell_type": "code",
   "execution_count": 8,
   "id": "958276db-9e6b-435b-aece-6a5932500e18",
   "metadata": {},
   "outputs": [],
   "source": [
    "# interaction_time'ı sayısal hale çevir (Unix timestamp'e)\n",
    "df['interaction_time'] = pd.to_datetime(df['interaction_time']).astype(np.int64) // 10**9  # Saniye cinsinden"
   ]
  },
  {
   "cell_type": "code",
   "execution_count": 9,
   "id": "95f60f52-da45-45ba-b57b-3f7a62ade746",
   "metadata": {},
   "outputs": [
    {
     "name": "stdout",
     "output_type": "stream",
     "text": [
      "\n",
      "Dönüştürülen Veri Seti İlk 5 Satır:\n",
      "   id  user_id  interaction_type  interaction_details  device_id  ip_address  \\\n",
      "0   1        1                 2                    0          0           1   \n",
      "1   2        2                 2                    2          1           0   \n",
      "2   3        3                 0                    3          2           1   \n",
      "3   4        1                 1                    2          1           1   \n",
      "4   5        2                 0                    2          2           0   \n",
      "\n",
      "   location  interaction_time  \n",
      "0         2        1740850828  \n",
      "1         1        1740850828  \n",
      "2         2        1740850828  \n",
      "3         1        1740851452  \n",
      "4         2        1740851452  \n"
     ]
    }
   ],
   "source": [
    "# Dönüştürülen veriyi kontrol et\n",
    "print(\"\\nDönüştürülen Veri Seti İlk 5 Satır:\")\n",
    "print(df.head())"
   ]
  },
  {
   "cell_type": "code",
   "execution_count": 10,
   "id": "51b7f44a-7f06-4a3e-8b02-1196b0c689bf",
   "metadata": {},
   "outputs": [
    {
     "name": "stdout",
     "output_type": "stream",
     "text": [
      "\n",
      "Dönüştürülen veri 'users_errors_encoded.csv' dosyasına kaydedildi.\n"
     ]
    }
   ],
   "source": [
    "# Veriyi bir dosyaya kaydet (isteğe bağlı)\n",
    "df.to_csv(\"C:/Users/lenovo/Desktop/verianalizi/users_errors_encoded.csv\", index=False)\n",
    "print(\"\\nDönüştürülen veri 'users_errors_encoded.csv' dosyasına kaydedildi.\")"
   ]
  },
  {
   "cell_type": "code",
   "execution_count": 11,
   "id": "350c123a-97b0-434d-85b9-450fd08d16db",
   "metadata": {},
   "outputs": [],
   "source": [
    "# Geri dönüşüm fonksiyonu (sayısal veriyi orijinal hale çevirme)\n",
    "def decode_dataframe(df_encoded, label_encoders, time_column='interaction_time'):\n",
    "    df_decoded = df_encoded.copy()\n",
    "    for col, encoder in label_encoders.items():\n",
    "        df_decoded[col] = encoder.inverse_transform(df_decoded[col])\n",
    "    if time_column in df_decoded.columns:\n",
    "        df_decoded[time_column] = pd.to_datetime(df_decoded[time_column], unit='s')\n",
    "    return df_decoded\n",
    "    "
   ]
  },
  {
   "cell_type": "code",
   "execution_count": 12,
   "id": "01700cf3-7730-400c-b1b3-58245f0359c8",
   "metadata": {},
   "outputs": [
    {
     "name": "stdout",
     "output_type": "stream",
     "text": [
      "\n",
      "Geri Dönüştürülen Veri Seti İlk 5 Satır:\n",
      "   id  user_id       interaction_type                interaction_details  \\\n",
      "0   1        1          Invalid Input   Data value exceeds allowed range   \n",
      "1   2        2          Invalid Input              Invalid email address   \n",
      "2   3        3  Authentication Failed  Session timeout due to inactivity   \n",
      "3   4        1             Data Error              Invalid email address   \n",
      "4   5        2  Authentication Failed              Invalid email address   \n",
      "\n",
      "  device_id  ip_address  location    interaction_time  \n",
      "0   DEV1234  172.16.0.3     İzmir 2025-03-01 17:40:28  \n",
      "1   DEV5678    10.0.0.2  İstanbul 2025-03-01 17:40:28  \n",
      "2   DEV9999  172.16.0.3     İzmir 2025-03-01 17:40:28  \n",
      "3   DEV5678  172.16.0.3  İstanbul 2025-03-01 17:50:52  \n",
      "4   DEV9999    10.0.0.2     İzmir 2025-03-01 17:50:52  \n"
     ]
    }
   ],
   "source": [
    "# Geri dönüştürülen veriyi kontrol et\n",
    "df_decoded = decode_dataframe(df, label_encoders)\n",
    "print(\"\\nGeri Dönüştürülen Veri Seti İlk 5 Satır:\")\n",
    "print(df_decoded.head())"
   ]
  },
  {
   "cell_type": "code",
   "execution_count": 14,
   "id": "f7eeaaeb-ded5-4c1c-a093-6544cac77a0e",
   "metadata": {},
   "outputs": [
    {
     "name": "stdout",
     "output_type": "stream",
     "text": [
      "\n",
      "Dönüştürülen veri 'users_errors_encoded.csv' dosyasına kaydedildi.\n"
     ]
    }
   ],
   "source": [
    "# Veriyi bir dosyaya kaydet (isteğe bağlı)\n",
    "df.to_csv(\"C:/Users/lenovo/Desktop/verianalizi/users_errors_encoded.csv\", index=False)\n",
    "print(\"\\nDönüştürülen veri 'users_errors_encoded.csv' dosyasına kaydedildi.\")"
   ]
  },
  {
   "cell_type": "code",
   "execution_count": null,
   "id": "af7a02e5-cf1e-488d-a63e-cf8197b704e6",
   "metadata": {},
   "outputs": [],
   "source": []
  },
  {
   "cell_type": "code",
   "execution_count": null,
   "id": "1176394a-5b02-4f84-a12c-dd8c0c44c2e0",
   "metadata": {},
   "outputs": [],
   "source": []
  },
  {
   "cell_type": "code",
   "execution_count": null,
   "id": "fc7ead5a-96a6-4e59-99db-21109d20cbff",
   "metadata": {},
   "outputs": [],
   "source": []
  }
 ],
 "metadata": {
  "kernelspec": {
   "display_name": "Python 3 (ipykernel)",
   "language": "python",
   "name": "python3"
  },
  "language_info": {
   "codemirror_mode": {
    "name": "ipython",
    "version": 3
   },
   "file_extension": ".py",
   "mimetype": "text/x-python",
   "name": "python",
   "nbconvert_exporter": "python",
   "pygments_lexer": "ipython3",
   "version": "3.11.5"
  }
 },
 "nbformat": 4,
 "nbformat_minor": 5
}
