{
 "cells": [
  {
   "cell_type": "code",
   "execution_count": 104,
   "id": "a4cb17fe-f624-44b3-949e-fe47efeba52e",
   "metadata": {},
   "outputs": [],
   "source": [
    "import pandas as pd\n",
    "import numpy as np\n",
    "import seaborn as sns\n",
    "import matplotlib.pyplot as plt\n",
    "from sklearn.preprocessing import LabelEncoder, StandardScaler\n",
    "from sklearn.ensemble import IsolationForest\n",
    "from sklearn.neighbors import LocalOutlierFactor\n",
    "from sklearn.metrics import confusion_matrix, classification_report"
   ]
  },
  {
   "cell_type": "code",
   "execution_count": 105,
   "id": "d3cc60b2-7413-4e12-b292-218905f1a6ff",
   "metadata": {},
   "outputs": [],
   "source": [
    "# Veriyi yükleyin\n",
    "df = pd.read_csv('C:/Users/lenovo/Desktop/verianalizi/users_errors.csv')"
   ]
  },
  {
   "cell_type": "code",
   "execution_count": 106,
   "id": "b6a2b286-80e1-4e5a-a7de-9bf61436e5d7",
   "metadata": {},
   "outputs": [],
   "source": [
    "# Hata kontrolü: 'interaction_time' sütunu varsa datetime formatına çevir\n",
    "if 'interaction_time' in df.columns:\n",
    "    df['interaction_time'] = pd.to_datetime(df['interaction_time'], errors='coerce')\n",
    "    df['interaction_time'] = df['interaction_time'].fillna(pd.Timestamp.now())\n",
    "\n",
    "# Label Encoding (Kategorik verileri sayısala çevir)\n",
    "label_encoder = LabelEncoder()\n",
    "categorical_columns = ['interaction_type', 'interaction_details', 'device_id', 'ip_address', 'location']\n",
    "\n",
    "for col in categorical_columns:\n",
    "    if col in df.columns:\n",
    "        df[col] = label_encoder.fit_transform(df[col].astype(str))  # Hata almamak için string'e çevir\n",
    "\n",
    "# Özellikleri ölçeklendirme (Modelin daha iyi çalışması için)\n",
    "scaler = StandardScaler()\n",
    "scaled_features = ['interaction_type', 'interaction_details', 'device_id', 'ip_address', 'location']\n",
    "\n",
    "df[scaled_features] = scaler.fit_transform(df[scaled_features])\n",
    "\n",
    "# **Anomali Tespiti İçin Hedef Değişkeni Oluşturma**\n",
    "# 'Invalid Input' ve 'Authentication Failed' içeren etkileşimleri anomali olarak işaretle\n",
    "df['is_anomaly'] = 0  # Varsayılan olarak tüm verileri normal kabul et\n"
   ]
  },
  {
   "cell_type": "code",
   "execution_count": 107,
   "id": "7ed31b91-49d4-4769-80c6-37fe3adfe77b",
   "metadata": {},
   "outputs": [
    {
     "name": "stdout",
     "output_type": "stream",
     "text": [
      "Isolation Forest modeli çalıştırılırken hata oluştu: The DType <class 'numpy.dtypes.DateTime64DType'> could not be promoted by <class 'numpy.dtypes.Float64DType'>. This means that no common DType exists for the given inputs. For example they cannot be stored in a single array unless the dtype is `object`. The full list of DTypes is: (<class 'numpy.dtypes.Int64DType'>, <class 'numpy.dtypes.Int64DType'>, <class 'numpy.dtypes.Float64DType'>, <class 'numpy.dtypes.Float64DType'>, <class 'numpy.dtypes.Float64DType'>, <class 'numpy.dtypes.Float64DType'>, <class 'numpy.dtypes.Float64DType'>, <class 'numpy.dtypes.DateTime64DType'>)\n"
     ]
    }
   ],
   "source": [
    "if 'interaction_type' in df.columns:\n",
    "    invalid_labels = ['Invalid Input', 'Authentication Failed']\n",
    "    for label in invalid_labels:\n",
    "        if label in label_encoder.classes_:\n",
    "            label_encoded = label_encoder.transform([label])[0]\n",
    "            df.loc[df['interaction_type'] == label_encoded, 'is_anomaly'] = 1\n",
    "\n",
    "# Bağımsız ve bağımlı değişkenleri ayır\n",
    "X = df.drop(columns=['is_anomaly'])\n",
    "y = df['is_anomaly']\n",
    "\n",
    "# **Isolation Forest Modeli**\n",
    "iso_forest = IsolationForest(n_estimators=100, contamination=0.02, random_state=42)\n",
    "\n",
    "try:\n",
    "    y_pred_if = iso_forest.fit_predict(X)\n",
    "    y_pred_if = np.where(y_pred_if == -1, 1, 0)  # -1 olanları 1 (anomali), diğerlerini 0 yap\n",
    "except Exception as e:\n",
    "    print(\"Isolation Forest modeli çalıştırılırken hata oluştu:\", e)\n",
    "    y_pred_if = np.zeros(len(y))  # Model başarısız olursa varsayılan olarak 0 ver\n",
    "# **Local Outlier Factor (LOF) Modeli**\n",
    "lof = LocalOutlierFactor(n_neighbors=20, contamination=0.02)\n"
   ]
  },
  {
   "cell_type": "code",
   "execution_count": 111,
   "id": "58bcf99a-3271-47f8-9696-93321be9373c",
   "metadata": {},
   "outputs": [
    {
     "name": "stdout",
     "output_type": "stream",
     "text": [
      "Isolation Forest modeli çalıştırılırken hata oluştu: The DType <class 'numpy.dtypes.DateTime64DType'> could not be promoted by <class 'numpy.dtypes.Float64DType'>. This means that no common DType exists for the given inputs. For example they cannot be stored in a single array unless the dtype is `object`. The full list of DTypes is: (<class 'numpy.dtypes.Int64DType'>, <class 'numpy.dtypes.Int64DType'>, <class 'numpy.dtypes.Float64DType'>, <class 'numpy.dtypes.Float64DType'>, <class 'numpy.dtypes.Float64DType'>, <class 'numpy.dtypes.Float64DType'>, <class 'numpy.dtypes.Float64DType'>, <class 'numpy.dtypes.DateTime64DType'>)\n",
      "Local Outlier Factor modeli çalıştırılırken hata oluştu: The DType <class 'numpy.dtypes.DateTime64DType'> could not be promoted by <class 'numpy.dtypes.Float64DType'>. This means that no common DType exists for the given inputs. For example they cannot be stored in a single array unless the dtype is `object`. The full list of DTypes is: (<class 'numpy.dtypes.Int64DType'>, <class 'numpy.dtypes.Int64DType'>, <class 'numpy.dtypes.Float64DType'>, <class 'numpy.dtypes.Float64DType'>, <class 'numpy.dtypes.Float64DType'>, <class 'numpy.dtypes.Float64DType'>, <class 'numpy.dtypes.Float64DType'>, <class 'numpy.dtypes.DateTime64DType'>)\n",
      "Isolation Forest - Classification Report:\n",
      "               precision    recall  f1-score   support\n",
      "\n",
      "           0       1.00      1.00      1.00      1000\n",
      "\n",
      "    accuracy                           1.00      1000\n",
      "   macro avg       1.00      1.00      1.00      1000\n",
      "weighted avg       1.00      1.00      1.00      1000\n",
      "\n",
      "Local Outlier Factor - Classification Report:\n",
      "               precision    recall  f1-score   support\n",
      "\n",
      "           0       1.00      1.00      1.00      1000\n",
      "\n",
      "    accuracy                           1.00      1000\n",
      "   macro avg       1.00      1.00      1.00      1000\n",
      "weighted avg       1.00      1.00      1.00      1000\n",
      "\n"
     ]
    },
    {
     "data": {
      "image/png": "[encoded data removed]",
      "text/plain": [
       "<Figure size 1000x400 with 4 Axes>"
      ]
     },
     "metadata": {},
     "output_type": "display_data"
    }
   ],
   "source": [
    "# **Isolation Forest Modeli**\n",
    "try:\n",
    "    y_pred_if = iso_forest.fit_predict(X)\n",
    "    y_pred_if = np.where(y_pred_if == -1, 1, 0)  # -1 olanları 1 (anomali), diğerlerini 0 yap\n",
    "except Exception as e:\n",
    "    print(\"Isolation Forest modeli çalıştırılırken hata oluştu:\", e)\n",
    "    y_pred_if = np.zeros(len(y))  # Model başarısız olursa varsayılan olarak 0 ver\n",
    "\n",
    "# **Local Outlier Factor (LOF) Modeli**\n",
    "try:\n",
    "    y_pred_lof = lof.fit_predict(X)\n",
    "    y_pred_lof = np.where(y_pred_lof == -1, 1, 0)\n",
    "except Exception as e:\n",
    "    print(\"Local Outlier Factor modeli çalıştırılırken hata oluştu:\", e)\n",
    "    y_pred_lof = np.zeros(len(y))  # Model başarısız olursa varsayılan olarak 0 ver\n",
    "\n",
    "# **Confusion Matrix ve Classification Report**\n",
    "print(\"Isolation Forest - Classification Report:\\n\", classification_report(y, y_pred_if, zero_division=1))\n",
    "print(\"Local Outlier Factor - Classification Report:\\n\", classification_report(y, y_pred_lof, zero_division=1))\n",
    "\n",
    "# **Confusion Matrix Çizimi**\n",
    "labels = [0, 1]  # Olası etiketler\n",
    "plt.figure(figsize=(10, 4))\n",
    "\n",
    "plt.subplot(1, 2, 1)\n",
    "sns.heatmap(confusion_matrix(y, y_pred_if, labels=labels), annot=True, fmt=\"d\", cmap=\"Blues\")\n",
    "plt.title(\"Isolation Forest Confusion Matrix\")\n",
    "\n",
    "plt.subplot(1, 2, 2)\n",
    "sns.heatmap(confusion_matrix(y, y_pred_lof, labels=labels), annot=True, fmt=\"d\", cmap=\"Reds\")\n",
    "plt.title(\"Local Outlier Factor Confusion Matrix\")\n",
    "\n",
    "plt.show()"
   ]
  },
  {
   "cell_type": "code",
   "execution_count": null,
   "id": "af9f622f-d178-4c6e-85e2-2afb769ed371",
   "metadata": {},
   "outputs": [],
   "source": []
  },
  {
   "cell_type": "code",
   "execution_count": null,
   "id": "0c71268f-b73a-4a8b-8909-65338c687821",
   "metadata": {},
   "outputs": [],
   "source": []
  },
  {
   "cell_type": "code",
   "execution_count": null,
   "id": "7adfa22a-f72c-4ea8-ab96-7852dd2a7afc",
   "metadata": {},
   "outputs": [],
   "source": []
  }
 ],
 "metadata": {
  "kernelspec": {
   "display_name": "Python 3 (ipykernel)",
   "language": "python",
   "name": "python3"
  },
  "language_info": {
   "codemirror_mode": {
    "name": "ipython",
    "version": 3
   },
   "file_extension": ".py",
   "mimetype": "text/x-python",
   "name": "python",
   "nbconvert_exporter": "python",
   "pygments_lexer": "ipython3",
   "version": "3.11.5"
  }
 },
 "nbformat": 4,
 "nbformat_minor": 5
}
